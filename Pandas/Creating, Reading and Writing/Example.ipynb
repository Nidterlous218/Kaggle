{
 "cells": [
  {
   "cell_type": "markdown",
   "id": "8f9eaa34-085b-4e12-a865-41f9ea0fedab",
   "metadata": {},
   "source": [
    "# Examples for Creating, Reading and Writing in the Data Frame and Series"
   ]
  },
  {
   "cell_type": "markdown",
   "id": "2461cec7-3797-4f4b-99b2-74d23eb7ad14",
   "metadata": {},
   "source": [
    "Before having formating the data frame and series, we should import a library called ***pandas*** in python"
   ]
  },
  {
   "cell_type": "markdown",
   "id": "d6ba76d7-5498-4ef2-862f-be6cbd76c9ef",
   "metadata": {},
   "source": [
    "By typing the code below:"
   ]
  },
  {
   "cell_type": "code",
   "execution_count": 2,
   "id": "a8c09e9f-c175-4c6f-bd18-ee6bc85a6c52",
   "metadata": {},
   "outputs": [],
   "source": [
    "import pandas as pd"
   ]
  },
  {
   "cell_type": "markdown",
   "id": "fba770ee-c8f8-4967-bb71-d29ecbc46b9d",
   "metadata": {},
   "source": [
    "This demand python to import the library pandas and we named it as **pd**"
   ]
  },
  {
   "cell_type": "markdown",
   "id": "afcee922-f740-4900-b18f-bfee6d9c389b",
   "metadata": {},
   "source": [
    "## Data Frame"
   ]
  },
  {
   "cell_type": "markdown",
   "id": "ae1d5265-2d24-4d6c-8c07-a68acae98ce1",
   "metadata": {},
   "source": [
    "Think Data Frame as a table which contains various ***columns*** (↓) and ***rows*** ( --> )\n"
   ]
  },
  {
   "cell_type": "markdown",
   "id": "582749c8-2c80-4d07-8197-3d809881d1b1",
   "metadata": {},
   "source": [
    "or so called as **dictionary** in the python >_<"
   ]
  },
  {
   "cell_type": "markdown",
   "id": "6958e6b9-c94b-4e9c-a18c-1ec72e1e0ff1",
   "metadata": {},
   "source": [
    "The Data Frame could store different values as examples below included:\n",
    " - Numbers\n",
    " - Strings"
   ]
  },
  {
   "cell_type": "markdown",
   "id": "42f1dc8f-a240-4340-9ca2-8982f7b740d1",
   "metadata": {},
   "source": []
  },
  {
   "cell_type": "code",
   "execution_count": 3,
   "id": "3b53e865-5568-4fd5-b6d4-f09569cc6ab0",
   "metadata": {},
   "outputs": [
    {
     "data": {
      "text/html": [
       "<div>\n",
       "<style scoped>\n",
       "    .dataframe tbody tr th:only-of-type {\n",
       "        vertical-align: middle;\n",
       "    }\n",
       "\n",
       "    .dataframe tbody tr th {\n",
       "        vertical-align: top;\n",
       "    }\n",
       "\n",
       "    .dataframe thead th {\n",
       "        text-align: right;\n",
       "    }\n",
       "</style>\n",
       "<table border=\"1\" class=\"dataframe\">\n",
       "  <thead>\n",
       "    <tr style=\"text-align: right;\">\n",
       "      <th></th>\n",
       "      <th>Yes</th>\n",
       "      <th>No</th>\n",
       "    </tr>\n",
       "  </thead>\n",
       "  <tbody>\n",
       "    <tr>\n",
       "      <th>0</th>\n",
       "      <td>50</td>\n",
       "      <td>131</td>\n",
       "    </tr>\n",
       "    <tr>\n",
       "      <th>1</th>\n",
       "      <td>21</td>\n",
       "      <td>2</td>\n",
       "    </tr>\n",
       "  </tbody>\n",
       "</table>\n",
       "</div>"
      ],
      "text/plain": [
       "   Yes   No\n",
       "0   50  131\n",
       "1   21    2"
      ]
     },
     "execution_count": 3,
     "metadata": {},
     "output_type": "execute_result"
    }
   ],
   "source": [
    "pd.DataFrame({'Yes': [50, 21], 'No': [131, 2]})"
   ]
  },
  {
   "cell_type": "markdown",
   "id": "ab659424-a0d2-46ac-85cf-84c887f269ac",
   "metadata": {},
   "source": [
    "`pd.DataFrame()` indicates that we called a function named ***DataFrame*** in the pandas library"
   ]
  },
  {
   "cell_type": "markdown",
   "id": "34f30334-3264-4a8b-9036-0974fe31db2a",
   "metadata": {},
   "source": [
    "Inside the bracket(), we create a dictionary with the format:"
   ]
  },
  {
   "cell_type": "markdown",
   "id": "50755832-5012-478c-b52f-ba504a1a458a",
   "metadata": {},
   "source": [
    "`{'column_name1': ['content1', 'content2'], 'column_name2': ['content1', 'content2'], ....}`"
   ]
  },
  {
   "cell_type": "markdown",
   "id": "8fc8961c-cc48-435f-bef6-8d9cc3e3540b",
   "metadata": {},
   "source": [
    "That's the **reason** for saying it is similar to the python's dictionary. Now let's recap, to create a Data Frame:"
   ]
  },
  {
   "cell_type": "markdown",
   "id": "e2c9cbdb-28e5-4119-80b9-dfa7b12a84d8",
   "metadata": {},
   "source": [
    "`pd.DataFrame({'column_name1': ['content1', 'content2'], 'column_name2': ['content1', 'content2'], ....})`"
   ]
  },
  {
   "cell_type": "markdown",
   "id": "3ffbe66d-713d-4d3d-a4fa-a3a97d17b125",
   "metadata": {},
   "source": []
  },
  {
   "cell_type": "markdown",
   "id": "f8306d71",
   "metadata": {},
   "source": []
  },
  {
   "cell_type": "code",
   "execution_count": 4,
   "id": "b75930da-fc76-4aa7-b5df-2f542ef7b4fd",
   "metadata": {},
   "outputs": [
    {
     "data": {
      "text/html": [
       "<div>\n",
       "<style scoped>\n",
       "    .dataframe tbody tr th:only-of-type {\n",
       "        vertical-align: middle;\n",
       "    }\n",
       "\n",
       "    .dataframe tbody tr th {\n",
       "        vertical-align: top;\n",
       "    }\n",
       "\n",
       "    .dataframe thead th {\n",
       "        text-align: right;\n",
       "    }\n",
       "</style>\n",
       "<table border=\"1\" class=\"dataframe\">\n",
       "  <thead>\n",
       "    <tr style=\"text-align: right;\">\n",
       "      <th></th>\n",
       "      <th>Bob</th>\n",
       "      <th>Sue</th>\n",
       "    </tr>\n",
       "  </thead>\n",
       "  <tbody>\n",
       "    <tr>\n",
       "      <th>0</th>\n",
       "      <td>I liked it.</td>\n",
       "      <td>Pretty good.</td>\n",
       "    </tr>\n",
       "    <tr>\n",
       "      <th>1</th>\n",
       "      <td>It was awful.</td>\n",
       "      <td>Bland,</td>\n",
       "    </tr>\n",
       "  </tbody>\n",
       "</table>\n",
       "</div>"
      ],
      "text/plain": [
       "             Bob           Sue\n",
       "0    I liked it.  Pretty good.\n",
       "1  It was awful.        Bland,"
      ]
     },
     "execution_count": 4,
     "metadata": {},
     "output_type": "execute_result"
    }
   ],
   "source": [
    "pd.DataFrame({'Bob': ['I liked it.', 'It was awful.'], 'Sue': ['Pretty good.', 'Bland,']})"
   ]
  },
  {
   "cell_type": "markdown",
   "id": "5fed6516-cd41-4c4c-9e2c-6b696ddfa6f7",
   "metadata": {},
   "source": []
  },
  {
   "cell_type": "markdown",
   "id": "7336a9b3-3a47-4838-968f-e69f1f8352ae",
   "metadata": {},
   "source": [
    "Did you noticed the **0** and **1** in the examples?"
   ]
  },
  {
   "cell_type": "markdown",
   "id": "bdb672df-5438-48a7-b568-7d59b376dd25",
   "metadata": {},
   "source": [
    "Those are the ***default indexes*** in the Data Frame, which we could edit too."
   ]
  },
  {
   "cell_type": "markdown",
   "id": "f0cde026-1df2-484c-ab3e-c6b9fcd47551",
   "metadata": {},
   "source": [
    "Just add this:  **`index = ['name_of_index1','name_of_index2',...]`** behind the content of the Data Frame will do"
   ]
  },
  {
   "cell_type": "markdown",
   "id": "4d524117-8945-4b53-b7de-ee551eeafb79",
   "metadata": {},
   "source": []
  },
  {
   "cell_type": "markdown",
   "id": "aa678278",
   "metadata": {},
   "source": []
  },
  {
   "cell_type": "code",
   "execution_count": 5,
   "id": "49c132dc-f638-4ee2-87f7-8a52a5b2b7c1",
   "metadata": {},
   "outputs": [
    {
     "data": {
      "text/html": [
       "<div>\n",
       "<style scoped>\n",
       "    .dataframe tbody tr th:only-of-type {\n",
       "        vertical-align: middle;\n",
       "    }\n",
       "\n",
       "    .dataframe tbody tr th {\n",
       "        vertical-align: top;\n",
       "    }\n",
       "\n",
       "    .dataframe thead th {\n",
       "        text-align: right;\n",
       "    }\n",
       "</style>\n",
       "<table border=\"1\" class=\"dataframe\">\n",
       "  <thead>\n",
       "    <tr style=\"text-align: right;\">\n",
       "      <th></th>\n",
       "      <th>Bob</th>\n",
       "      <th>Sue</th>\n",
       "    </tr>\n",
       "  </thead>\n",
       "  <tbody>\n",
       "    <tr>\n",
       "      <th>Product A</th>\n",
       "      <td>I liked it.</td>\n",
       "      <td>Pretty good.</td>\n",
       "    </tr>\n",
       "    <tr>\n",
       "      <th>Product B</th>\n",
       "      <td>It was awful.</td>\n",
       "      <td>Bland.</td>\n",
       "    </tr>\n",
       "  </tbody>\n",
       "</table>\n",
       "</div>"
      ],
      "text/plain": [
       "                     Bob           Sue\n",
       "Product A    I liked it.  Pretty good.\n",
       "Product B  It was awful.        Bland."
      ]
     },
     "execution_count": 5,
     "metadata": {},
     "output_type": "execute_result"
    }
   ],
   "source": [
    "pd.DataFrame({'Bob': ['I liked it.', 'It was awful.'], 'Sue':['Pretty good.', 'Bland.']}, index = ['Product A', 'Product B'])"
   ]
  },
  {
   "cell_type": "markdown",
   "id": "3f8262c2",
   "metadata": {},
   "source": [
    "That's all for the Data Frame, let's jump into the next section."
   ]
  },
  {
   "cell_type": "markdown",
   "id": "5d4299ca-322f-4177-be9f-aa3bb2b558ba",
   "metadata": {},
   "source": [
    "## Series"
   ]
  },
  {
   "cell_type": "markdown",
   "id": "95ae3364",
   "metadata": {},
   "source": [
    "Series is like a list which contains the values and the index as key. "
   ]
  },
  {
   "cell_type": "markdown",
   "id": "8c94bd7f",
   "metadata": {},
   "source": [
    "**Each key corresponds to a value.**"
   ]
  },
  {
   "cell_type": "code",
   "execution_count": 6,
   "id": "a9013af7-5820-4494-bb4a-5930ba81eb39",
   "metadata": {},
   "outputs": [],
   "source": [
    "# Series"
   ]
  },
  {
   "cell_type": "code",
   "execution_count": 7,
   "id": "b8aea928-c461-4c88-9177-b9e013d5176c",
   "metadata": {},
   "outputs": [
    {
     "data": {
      "text/plain": [
       "0    1\n",
       "1    2\n",
       "2    3\n",
       "3    4\n",
       "4    5\n",
       "dtype: int64"
      ]
     },
     "execution_count": 7,
     "metadata": {},
     "output_type": "execute_result"
    }
   ],
   "source": [
    "pd.Series([1, 2, 3, 4, 5])"
   ]
  },
  {
   "cell_type": "markdown",
   "id": "db865eef",
   "metadata": {},
   "source": [
    "In this example, the value of the first index (key) is 1 and so forth."
   ]
  },
  {
   "cell_type": "markdown",
   "id": "26c7c77d",
   "metadata": {},
   "source": [
    "To create a new Series, the code:"
   ]
  },
  {
   "cell_type": "markdown",
   "id": "2cd83fce",
   "metadata": {},
   "source": [
    "- `pd.Series([value1, value2, value3, value4,......])`"
   ]
  },
  {
   "cell_type": "markdown",
   "id": "eb60c4e9",
   "metadata": {},
   "source": [
    "It is similar to Data Frame, the code says to the intepreter to *call a function named Series from the library pandas*, and the values inside the column[ ]."
   ]
  },
  {
   "cell_type": "markdown",
   "id": "3e54bc10",
   "metadata": {},
   "source": []
  },
  {
   "cell_type": "markdown",
   "id": "a6a604d9",
   "metadata": {},
   "source": []
  },
  {
   "cell_type": "code",
   "execution_count": 8,
   "id": "4daa2d8b-1e26-48b2-af4d-9f1005acf93f",
   "metadata": {},
   "outputs": [
    {
     "data": {
      "text/plain": [
       "2015 Sales    30\n",
       "2016 Sales    35\n",
       "2017 Sales    40\n",
       "Name: Product A, dtype: int64"
      ]
     },
     "execution_count": 8,
     "metadata": {},
     "output_type": "execute_result"
    }
   ],
   "source": [
    "pd.Series([30, 35, 40], index = ['2015 Sales', '2016 Sales', '2017 Sales'], name = 'Product A')"
   ]
  },
  {
   "cell_type": "markdown",
   "id": "74fc8bd6",
   "metadata": {},
   "source": [
    "Closely to Data Frame, the ways to assign the index: \n",
    "  - `index = ['name_of_index1','name_of_index2',...]` behind the content of the Series will do"
   ]
  },
  {
   "cell_type": "markdown",
   "id": "c9939557",
   "metadata": {},
   "source": []
  },
  {
   "cell_type": "markdown",
   "id": "2245ac48",
   "metadata": {},
   "source": [
    "However, the Series doesn't have a column name ( since it is only a single column of a Data Frame). It has a overall name:\n",
    " - ` name = 'name_of_Series'`"
   ]
  },
  {
   "cell_type": "markdown",
   "id": "f9e3b5aa",
   "metadata": {},
   "source": [
    "Finally,  a short description that links all the concepts upon:"
   ]
  },
  {
   "cell_type": "code",
   "execution_count": 9,
   "id": "be244efa-69e5-468e-9a70-52d38c2fc004",
   "metadata": {},
   "outputs": [],
   "source": [
    "# DataFrame is just a bunch of Series glued together"
   ]
  },
  {
   "cell_type": "markdown",
   "id": "67aa9e94",
   "metadata": {},
   "source": []
  },
  {
   "cell_type": "markdown",
   "id": "37089236",
   "metadata": {},
   "source": []
  },
  {
   "cell_type": "markdown",
   "id": "4ecffbfc",
   "metadata": {},
   "source": [
    "## Reading data files"
   ]
  },
  {
   "cell_type": "code",
   "execution_count": 10,
   "id": "c50af0de-d715-431b-8408-7bba91ddb0f1",
   "metadata": {},
   "outputs": [],
   "source": [
    "# Reading data files"
   ]
  },
  {
   "cell_type": "markdown",
   "id": "c55d2f89",
   "metadata": {},
   "source": [
    "Usually, we rarely create data using either a Data Frame or a Series since it comes to handy. Instead, we work with data that already exists."
   ]
  },
  {
   "cell_type": "markdown",
   "id": "5cf51a78",
   "metadata": {},
   "source": [
    "To read a data file:"
   ]
  },
  {
   "cell_type": "code",
   "execution_count": 11,
   "id": "073a0d5e-caae-4b3e-b2e6-8d85fc017024",
   "metadata": {},
   "outputs": [],
   "source": [
    "wine_reviews = pd.read_csv(\"winemag-data-130k-v2.csv\")"
   ]
  },
  {
   "cell_type": "markdown",
   "id": "1b63c988",
   "metadata": {},
   "source": [
    "Data could be stored in various formats, the regular used format is the CSV (comma - separated values). Using `pd.read_csv('file_name')` function to read the data into a Data Frame.\n"
   ]
  },
  {
   "cell_type": "markdown",
   "id": "71878072",
   "metadata": {},
   "source": []
  },
  {
   "cell_type": "markdown",
   "id": "7d10aa9a",
   "metadata": {},
   "source": []
  },
  {
   "cell_type": "markdown",
   "id": "0c21606e",
   "metadata": {},
   "source": [
    "To quickly learn how big is the data file read into, use `variable.shape` and the ***variable*** contains the data file you want to read from."
   ]
  },
  {
   "cell_type": "code",
   "execution_count": 12,
   "id": "cb46562a-addb-45e0-8b20-d340e290263f",
   "metadata": {},
   "outputs": [
    {
     "data": {
      "text/plain": [
       "(129971, 14)"
      ]
     },
     "execution_count": 12,
     "metadata": {},
     "output_type": "execute_result"
    }
   ],
   "source": [
    "wine_reviews.shape"
   ]
  },
  {
   "cell_type": "markdown",
   "id": "c58bb8de",
   "metadata": {},
   "source": [
    "So, the Data Frame contains nearly 130,000 rows of records (-->) and 14 columns."
   ]
  },
  {
   "cell_type": "markdown",
   "id": "91933559",
   "metadata": {},
   "source": []
  },
  {
   "cell_type": "markdown",
   "id": "4f323fb6",
   "metadata": {},
   "source": []
  },
  {
   "cell_type": "markdown",
   "id": "414a396b",
   "metadata": {},
   "source": [
    "The function `head()` gives us an instant review of the first five records from the Data Frame. (Starts counting from 0 to 4)"
   ]
  },
  {
   "cell_type": "code",
   "execution_count": 13,
   "id": "7f938892-033e-44a6-ad69-8b7ec2c3b9ec",
   "metadata": {},
   "outputs": [
    {
     "data": {
      "text/html": [
       "<div>\n",
       "<style scoped>\n",
       "    .dataframe tbody tr th:only-of-type {\n",
       "        vertical-align: middle;\n",
       "    }\n",
       "\n",
       "    .dataframe tbody tr th {\n",
       "        vertical-align: top;\n",
       "    }\n",
       "\n",
       "    .dataframe thead th {\n",
       "        text-align: right;\n",
       "    }\n",
       "</style>\n",
       "<table border=\"1\" class=\"dataframe\">\n",
       "  <thead>\n",
       "    <tr style=\"text-align: right;\">\n",
       "      <th></th>\n",
       "      <th>Unnamed: 0</th>\n",
       "      <th>country</th>\n",
       "      <th>description</th>\n",
       "      <th>designation</th>\n",
       "      <th>points</th>\n",
       "      <th>price</th>\n",
       "      <th>province</th>\n",
       "      <th>region_1</th>\n",
       "      <th>region_2</th>\n",
       "      <th>taster_name</th>\n",
       "      <th>taster_twitter_handle</th>\n",
       "      <th>title</th>\n",
       "      <th>variety</th>\n",
       "      <th>winery</th>\n",
       "    </tr>\n",
       "  </thead>\n",
       "  <tbody>\n",
       "    <tr>\n",
       "      <th>0</th>\n",
       "      <td>0</td>\n",
       "      <td>Italy</td>\n",
       "      <td>Aromas include tropical fruit, broom, brimston...</td>\n",
       "      <td>Vulkà Bianco</td>\n",
       "      <td>87</td>\n",
       "      <td>NaN</td>\n",
       "      <td>Sicily &amp; Sardinia</td>\n",
       "      <td>Etna</td>\n",
       "      <td>NaN</td>\n",
       "      <td>Kerin O’Keefe</td>\n",
       "      <td>@kerinokeefe</td>\n",
       "      <td>Nicosia 2013 Vulkà Bianco  (Etna)</td>\n",
       "      <td>White Blend</td>\n",
       "      <td>Nicosia</td>\n",
       "    </tr>\n",
       "    <tr>\n",
       "      <th>1</th>\n",
       "      <td>1</td>\n",
       "      <td>Portugal</td>\n",
       "      <td>This is ripe and fruity, a wine that is smooth...</td>\n",
       "      <td>Avidagos</td>\n",
       "      <td>87</td>\n",
       "      <td>15.0</td>\n",
       "      <td>Douro</td>\n",
       "      <td>NaN</td>\n",
       "      <td>NaN</td>\n",
       "      <td>Roger Voss</td>\n",
       "      <td>@vossroger</td>\n",
       "      <td>Quinta dos Avidagos 2011 Avidagos Red (Douro)</td>\n",
       "      <td>Portuguese Red</td>\n",
       "      <td>Quinta dos Avidagos</td>\n",
       "    </tr>\n",
       "    <tr>\n",
       "      <th>2</th>\n",
       "      <td>2</td>\n",
       "      <td>US</td>\n",
       "      <td>Tart and snappy, the flavors of lime flesh and...</td>\n",
       "      <td>NaN</td>\n",
       "      <td>87</td>\n",
       "      <td>14.0</td>\n",
       "      <td>Oregon</td>\n",
       "      <td>Willamette Valley</td>\n",
       "      <td>Willamette Valley</td>\n",
       "      <td>Paul Gregutt</td>\n",
       "      <td>@paulgwine</td>\n",
       "      <td>Rainstorm 2013 Pinot Gris (Willamette Valley)</td>\n",
       "      <td>Pinot Gris</td>\n",
       "      <td>Rainstorm</td>\n",
       "    </tr>\n",
       "    <tr>\n",
       "      <th>3</th>\n",
       "      <td>3</td>\n",
       "      <td>US</td>\n",
       "      <td>Pineapple rind, lemon pith and orange blossom ...</td>\n",
       "      <td>Reserve Late Harvest</td>\n",
       "      <td>87</td>\n",
       "      <td>13.0</td>\n",
       "      <td>Michigan</td>\n",
       "      <td>Lake Michigan Shore</td>\n",
       "      <td>NaN</td>\n",
       "      <td>Alexander Peartree</td>\n",
       "      <td>NaN</td>\n",
       "      <td>St. Julian 2013 Reserve Late Harvest Riesling ...</td>\n",
       "      <td>Riesling</td>\n",
       "      <td>St. Julian</td>\n",
       "    </tr>\n",
       "    <tr>\n",
       "      <th>4</th>\n",
       "      <td>4</td>\n",
       "      <td>US</td>\n",
       "      <td>Much like the regular bottling from 2012, this...</td>\n",
       "      <td>Vintner's Reserve Wild Child Block</td>\n",
       "      <td>87</td>\n",
       "      <td>65.0</td>\n",
       "      <td>Oregon</td>\n",
       "      <td>Willamette Valley</td>\n",
       "      <td>Willamette Valley</td>\n",
       "      <td>Paul Gregutt</td>\n",
       "      <td>@paulgwine</td>\n",
       "      <td>Sweet Cheeks 2012 Vintner's Reserve Wild Child...</td>\n",
       "      <td>Pinot Noir</td>\n",
       "      <td>Sweet Cheeks</td>\n",
       "    </tr>\n",
       "  </tbody>\n",
       "</table>\n",
       "</div>"
      ],
      "text/plain": [
       "   Unnamed: 0   country                                        description  \\\n",
       "0           0     Italy  Aromas include tropical fruit, broom, brimston...   \n",
       "1           1  Portugal  This is ripe and fruity, a wine that is smooth...   \n",
       "2           2        US  Tart and snappy, the flavors of lime flesh and...   \n",
       "3           3        US  Pineapple rind, lemon pith and orange blossom ...   \n",
       "4           4        US  Much like the regular bottling from 2012, this...   \n",
       "\n",
       "                          designation  points  price           province  \\\n",
       "0                        Vulkà Bianco      87    NaN  Sicily & Sardinia   \n",
       "1                            Avidagos      87   15.0              Douro   \n",
       "2                                 NaN      87   14.0             Oregon   \n",
       "3                Reserve Late Harvest      87   13.0           Michigan   \n",
       "4  Vintner's Reserve Wild Child Block      87   65.0             Oregon   \n",
       "\n",
       "              region_1           region_2         taster_name  \\\n",
       "0                 Etna                NaN       Kerin O’Keefe   \n",
       "1                  NaN                NaN          Roger Voss   \n",
       "2    Willamette Valley  Willamette Valley        Paul Gregutt   \n",
       "3  Lake Michigan Shore                NaN  Alexander Peartree   \n",
       "4    Willamette Valley  Willamette Valley        Paul Gregutt   \n",
       "\n",
       "  taster_twitter_handle                                              title  \\\n",
       "0          @kerinokeefe                  Nicosia 2013 Vulkà Bianco  (Etna)   \n",
       "1            @vossroger      Quinta dos Avidagos 2011 Avidagos Red (Douro)   \n",
       "2           @paulgwine       Rainstorm 2013 Pinot Gris (Willamette Valley)   \n",
       "3                   NaN  St. Julian 2013 Reserve Late Harvest Riesling ...   \n",
       "4           @paulgwine   Sweet Cheeks 2012 Vintner's Reserve Wild Child...   \n",
       "\n",
       "          variety               winery  \n",
       "0     White Blend              Nicosia  \n",
       "1  Portuguese Red  Quinta dos Avidagos  \n",
       "2      Pinot Gris            Rainstorm  \n",
       "3        Riesling           St. Julian  \n",
       "4      Pinot Noir         Sweet Cheeks  "
      ]
     },
     "execution_count": 13,
     "metadata": {},
     "output_type": "execute_result"
    }
   ],
   "source": [
    "wine_reviews.head()"
   ]
  },
  {
   "cell_type": "markdown",
   "id": "bab88006",
   "metadata": {},
   "source": []
  },
  {
   "cell_type": "markdown",
   "id": "6d688090",
   "metadata": {},
   "source": [
    "The function `read_csv()` function allows over 30 optional parameters to design. For example, the dataset has a built-in index named    **Unnamed**    . To make pandas use that column for the index, we can specify :"
   ]
  },
  {
   "cell_type": "markdown",
   "id": "e84dd2e4",
   "metadata": {},
   "source": [
    "`index_col = 0`"
   ]
  },
  {
   "cell_type": "markdown",
   "id": "949db748",
   "metadata": {},
   "source": [
    "In more wordy explainations, this asks the pandas to make the column 0 for the index."
   ]
  },
  {
   "cell_type": "code",
   "execution_count": 14,
   "id": "5c4cccae-d01f-49d9-b45a-3604cf7ef407",
   "metadata": {},
   "outputs": [
    {
     "data": {
      "text/html": [
       "<div>\n",
       "<style scoped>\n",
       "    .dataframe tbody tr th:only-of-type {\n",
       "        vertical-align: middle;\n",
       "    }\n",
       "\n",
       "    .dataframe tbody tr th {\n",
       "        vertical-align: top;\n",
       "    }\n",
       "\n",
       "    .dataframe thead th {\n",
       "        text-align: right;\n",
       "    }\n",
       "</style>\n",
       "<table border=\"1\" class=\"dataframe\">\n",
       "  <thead>\n",
       "    <tr style=\"text-align: right;\">\n",
       "      <th></th>\n",
       "      <th>country</th>\n",
       "      <th>description</th>\n",
       "      <th>designation</th>\n",
       "      <th>points</th>\n",
       "      <th>price</th>\n",
       "      <th>province</th>\n",
       "      <th>region_1</th>\n",
       "      <th>region_2</th>\n",
       "      <th>taster_name</th>\n",
       "      <th>taster_twitter_handle</th>\n",
       "      <th>title</th>\n",
       "      <th>variety</th>\n",
       "      <th>winery</th>\n",
       "    </tr>\n",
       "  </thead>\n",
       "  <tbody>\n",
       "    <tr>\n",
       "      <th>0</th>\n",
       "      <td>Italy</td>\n",
       "      <td>Aromas include tropical fruit, broom, brimston...</td>\n",
       "      <td>Vulkà Bianco</td>\n",
       "      <td>87</td>\n",
       "      <td>NaN</td>\n",
       "      <td>Sicily &amp; Sardinia</td>\n",
       "      <td>Etna</td>\n",
       "      <td>NaN</td>\n",
       "      <td>Kerin O’Keefe</td>\n",
       "      <td>@kerinokeefe</td>\n",
       "      <td>Nicosia 2013 Vulkà Bianco  (Etna)</td>\n",
       "      <td>White Blend</td>\n",
       "      <td>Nicosia</td>\n",
       "    </tr>\n",
       "    <tr>\n",
       "      <th>1</th>\n",
       "      <td>Portugal</td>\n",
       "      <td>This is ripe and fruity, a wine that is smooth...</td>\n",
       "      <td>Avidagos</td>\n",
       "      <td>87</td>\n",
       "      <td>15.0</td>\n",
       "      <td>Douro</td>\n",
       "      <td>NaN</td>\n",
       "      <td>NaN</td>\n",
       "      <td>Roger Voss</td>\n",
       "      <td>@vossroger</td>\n",
       "      <td>Quinta dos Avidagos 2011 Avidagos Red (Douro)</td>\n",
       "      <td>Portuguese Red</td>\n",
       "      <td>Quinta dos Avidagos</td>\n",
       "    </tr>\n",
       "    <tr>\n",
       "      <th>2</th>\n",
       "      <td>US</td>\n",
       "      <td>Tart and snappy, the flavors of lime flesh and...</td>\n",
       "      <td>NaN</td>\n",
       "      <td>87</td>\n",
       "      <td>14.0</td>\n",
       "      <td>Oregon</td>\n",
       "      <td>Willamette Valley</td>\n",
       "      <td>Willamette Valley</td>\n",
       "      <td>Paul Gregutt</td>\n",
       "      <td>@paulgwine</td>\n",
       "      <td>Rainstorm 2013 Pinot Gris (Willamette Valley)</td>\n",
       "      <td>Pinot Gris</td>\n",
       "      <td>Rainstorm</td>\n",
       "    </tr>\n",
       "    <tr>\n",
       "      <th>3</th>\n",
       "      <td>US</td>\n",
       "      <td>Pineapple rind, lemon pith and orange blossom ...</td>\n",
       "      <td>Reserve Late Harvest</td>\n",
       "      <td>87</td>\n",
       "      <td>13.0</td>\n",
       "      <td>Michigan</td>\n",
       "      <td>Lake Michigan Shore</td>\n",
       "      <td>NaN</td>\n",
       "      <td>Alexander Peartree</td>\n",
       "      <td>NaN</td>\n",
       "      <td>St. Julian 2013 Reserve Late Harvest Riesling ...</td>\n",
       "      <td>Riesling</td>\n",
       "      <td>St. Julian</td>\n",
       "    </tr>\n",
       "    <tr>\n",
       "      <th>4</th>\n",
       "      <td>US</td>\n",
       "      <td>Much like the regular bottling from 2012, this...</td>\n",
       "      <td>Vintner's Reserve Wild Child Block</td>\n",
       "      <td>87</td>\n",
       "      <td>65.0</td>\n",
       "      <td>Oregon</td>\n",
       "      <td>Willamette Valley</td>\n",
       "      <td>Willamette Valley</td>\n",
       "      <td>Paul Gregutt</td>\n",
       "      <td>@paulgwine</td>\n",
       "      <td>Sweet Cheeks 2012 Vintner's Reserve Wild Child...</td>\n",
       "      <td>Pinot Noir</td>\n",
       "      <td>Sweet Cheeks</td>\n",
       "    </tr>\n",
       "  </tbody>\n",
       "</table>\n",
       "</div>"
      ],
      "text/plain": [
       "    country                                        description  \\\n",
       "0     Italy  Aromas include tropical fruit, broom, brimston...   \n",
       "1  Portugal  This is ripe and fruity, a wine that is smooth...   \n",
       "2        US  Tart and snappy, the flavors of lime flesh and...   \n",
       "3        US  Pineapple rind, lemon pith and orange blossom ...   \n",
       "4        US  Much like the regular bottling from 2012, this...   \n",
       "\n",
       "                          designation  points  price           province  \\\n",
       "0                        Vulkà Bianco      87    NaN  Sicily & Sardinia   \n",
       "1                            Avidagos      87   15.0              Douro   \n",
       "2                                 NaN      87   14.0             Oregon   \n",
       "3                Reserve Late Harvest      87   13.0           Michigan   \n",
       "4  Vintner's Reserve Wild Child Block      87   65.0             Oregon   \n",
       "\n",
       "              region_1           region_2         taster_name  \\\n",
       "0                 Etna                NaN       Kerin O’Keefe   \n",
       "1                  NaN                NaN          Roger Voss   \n",
       "2    Willamette Valley  Willamette Valley        Paul Gregutt   \n",
       "3  Lake Michigan Shore                NaN  Alexander Peartree   \n",
       "4    Willamette Valley  Willamette Valley        Paul Gregutt   \n",
       "\n",
       "  taster_twitter_handle                                              title  \\\n",
       "0          @kerinokeefe                  Nicosia 2013 Vulkà Bianco  (Etna)   \n",
       "1            @vossroger      Quinta dos Avidagos 2011 Avidagos Red (Douro)   \n",
       "2           @paulgwine       Rainstorm 2013 Pinot Gris (Willamette Valley)   \n",
       "3                   NaN  St. Julian 2013 Reserve Late Harvest Riesling ...   \n",
       "4           @paulgwine   Sweet Cheeks 2012 Vintner's Reserve Wild Child...   \n",
       "\n",
       "          variety               winery  \n",
       "0     White Blend              Nicosia  \n",
       "1  Portuguese Red  Quinta dos Avidagos  \n",
       "2      Pinot Gris            Rainstorm  \n",
       "3        Riesling           St. Julian  \n",
       "4      Pinot Noir         Sweet Cheeks  "
      ]
     },
     "execution_count": 14,
     "metadata": {},
     "output_type": "execute_result"
    }
   ],
   "source": [
    "wine_reviews = pd.read_csv('winemag-data-130k-v2.csv', index_col = 0)\n",
    "wine_reviews.head()"
   ]
  },
  {
   "cell_type": "markdown",
   "id": "b5c2bc03",
   "metadata": {},
   "source": [
    "## Writting a data file"
   ]
  },
  {
   "cell_type": "markdown",
   "id": "eea75029",
   "metadata": {},
   "source": [
    "After having certain editing to the dataset (Data Frame), we sometimes would like to have an output csv of this progress."
   ]
  },
  {
   "cell_type": "markdown",
   "id": "7aef1d79",
   "metadata": {},
   "source": [
    "`file_name_variable.to_csv('filename')`"
   ]
  },
  {
   "cell_type": "markdown",
   "id": "93e56a9d",
   "metadata": {},
   "source": [
    "Let's look into an example to have a better view."
   ]
  },
  {
   "cell_type": "code",
   "execution_count": 15,
   "id": "75cc58ff",
   "metadata": {},
   "outputs": [],
   "source": [
    "wine_reviews.to_csv('edited_reviews.csv')"
   ]
  },
  {
   "cell_type": "markdown",
   "id": "03eecc1c",
   "metadata": {},
   "source": [
    "We create a csv file named *edited_reviews* from the dataset called *wine_reviews* where we read the original data file into it."
   ]
  },
  {
   "cell_type": "markdown",
   "id": "b40a85c1",
   "metadata": {},
   "source": []
  }
 ],
 "metadata": {
  "kernelspec": {
   "display_name": "Python 3",
   "language": "python",
   "name": "python3"
  },
  "language_info": {
   "codemirror_mode": {
    "name": "ipython",
    "version": 3
   },
   "file_extension": ".py",
   "mimetype": "text/x-python",
   "name": "python",
   "nbconvert_exporter": "python",
   "pygments_lexer": "ipython3",
   "version": "3.12.2"
  }
 },
 "nbformat": 4,
 "nbformat_minor": 5
}
